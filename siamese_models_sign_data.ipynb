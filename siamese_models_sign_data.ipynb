{
  "cells": [
    {
      "cell_type": "markdown",
      "metadata": {
        "id": "sD-XI10ugfn5"
      },
      "source": [
        "# **Import Packages**"
      ]
    },
    {
      "cell_type": "code",
      "execution_count": 2,
      "metadata": {
        "id": "-cw-wwopgB4o"
      },
      "outputs": [],
      "source": [
        "import os\n",
        "import numpy as np\n",
        "import pandas as pd\n",
        "\n",
        "from tqdm import tqdm\n",
        "from PIL import Image\n",
        "import matplotlib.pyplot as plt\n",
        "\n",
        "from tensorflow import keras as keras\n",
        "from tensorflow.keras.models import Sequential, Model\n",
        "from tensorflow.keras.layers import Input, Conv2D, MaxPooling2D, Flatten, Dense, Lambda, Dropout, BatchNormalization, GlobalAveragePooling2D\n",
        "from tensorflow.keras import backend as K\n",
        "from tensorflow.keras.optimizers import Adam\n",
        "from tensorflow.keras.preprocessing.image import img_to_array\n",
        "from keras.callbacks import ModelCheckpoint, LearningRateScheduler, EarlyStopping, ReduceLROnPlateau, TensorBoard\n",
        "\n",
        "from sklearn.model_selection import train_test_split\n",
        "from sklearn.metrics import confusion_matrix"
      ]
    },
    {
      "cell_type": "markdown",
      "metadata": {
        "id": "5qEXJ8Eqgov1"
      },
      "source": [
        "# **Parameters**"
      ]
    },
    {
      "cell_type": "code",
      "execution_count": 2,
      "metadata": {
        "id": "TqZVKyB9gyEB"
      },
      "outputs": [],
      "source": [
        "# -------------- Model ----------------\n",
        "# backbone_model = 'custom_cnn'\n",
        "## CNN models (pretrained on ImageNet)\n",
        "# backbone_model = 'Xception'\n",
        "# backbone_model = 'InceptionV3'\n",
        "# backbone_model = 'ResNet50'\n",
        "backbone_model = 'MobileNetV2'\n",
        "\n",
        "# freeze convolutional layers:\n",
        "freeze_conv_layers = True\n",
        "\n",
        "# data:\n",
        "img_size = 224        # image size\n",
        "\n",
        "# training parameters:\n",
        "batch_size = 64       # batch size\n",
        "learning_rate = 1e-2  # learning rate\n",
        "num_epoches = 5      # maximum number of epoches\n",
        "steps_per_epoch = 100 # itration steps in each epoch\n",
        "\n",
        "data_path = \"./sign_data_models\""
      ]
    },
    {
      "cell_type": "markdown",
      "metadata": {
        "id": "ZlqLDV_z0Tcv"
      },
      "source": [
        "Image **preprocessing function** and **data loader** class:"
      ]
    },
    {
      "cell_type": "code",
      "execution_count": 3,
      "metadata": {
        "id": "rEt1w5mEfWS-"
      },
      "outputs": [],
      "source": [
        "def img_norm(x):\n",
        "  # a simple image preprocessing function\n",
        "  return (x - x.mean(axis=(0,1,2), keepdims=True)) / x.std(axis=(0,1,2), keepdims=True)\n",
        "\n",
        "class DataLoader:\n",
        "  def __init__(self, dataset, batch_size=32, img_size=112, dir='./'):\n",
        "    self.dataset = dataset\n",
        "    self.batch_size = batch_size\n",
        "    self.dir = dir\n",
        "    self.img_size = img_size\n",
        "  #shuffler\n",
        "  def shuffle(self):\n",
        "    return self.dataset.sample(frac=1)\n",
        "  #generator\n",
        "  def datagen(self, repeat_flag=True):\n",
        "    num_samples = len(self.dataset)\n",
        "    while True:\n",
        "        # shuffling the samples\n",
        "        self.dataset = self.shuffle()\n",
        "        for batch in range(1, num_samples, self.batch_size):\n",
        "            image1_batch_samples = self.dir + \"/\" + self.dataset.iloc[:, 0][batch:batch + self.batch_size]\n",
        "            image2_batch_samples = self.dir + \"/\" + self.dataset.iloc[:, 1][batch:batch + self.batch_size]\n",
        "            label_batch_samples = self.dataset.iloc[:, 2][batch:batch + self.batch_size]\n",
        "            Image1, Image2, Label = [], [], []\n",
        "            for image1, image2, label in zip(image1_batch_samples, image2_batch_samples, label_batch_samples):\n",
        "                # append them to Images directly\n",
        "                image1_data = Image.open(image1)\n",
        "                image2_data = Image.open(image2)\n",
        "                # resizing the images\n",
        "                image1_data = image1_data.resize((self.img_size, self.img_size))\n",
        "                image2_data = image2_data.resize((self.img_size, self.img_size))\n",
        "                # converting to array\n",
        "                image1_data = img_to_array(image1_data)\n",
        "                image2_data = img_to_array(image2_data)\n",
        "\n",
        "                # image1_data = preprocess_input(image1_data)\n",
        "                # image2_data = preprocess_input(image2_data)\n",
        "                image1_data = img_norm(image1_data)\n",
        "                image2_data = img_norm(image2_data)\n",
        "\n",
        "                Image1.append(image1_data)\n",
        "                Image2.append(image2_data)\n",
        "                Label.append(label)\n",
        "\n",
        "            Image1 = np.asarray(Image1).astype(np.float32)\n",
        "            Image2 = np.asarray(Image2).astype(np.float32)\n",
        "\n",
        "            Label = np.asarray(Label).astype(np.float32)\n",
        "            yield [Image1, Image2], Label\n",
        "        if not repeat_flag:\n",
        "          break"
      ]
    },
    {
      "cell_type": "markdown",
      "metadata": {
        "id": "5u-J8wUy0cCT"
      },
      "source": [
        "generators:"
      ]
    },
    {
      "cell_type": "code",
      "execution_count": 4,
      "metadata": {
        "id": "SLcezNcMfPEM"
      },
      "outputs": [],
      "source": [
        "train_set_file = \"./sign_data/train_data.csv\"\n",
        "test_set_file = \"./sign_data/test_data.csv\"\n",
        "\n",
        "train_val_set = pd.read_csv(train_set_file)\n",
        "train_set, val_set = train_test_split(train_val_set, test_size=0.2)\n",
        "test_set = pd.read_csv(test_set_file)\n",
        "\n",
        "train_gen= DataLoader(train_set, batch_size, img_size, \"./sign_data/train/\")\n",
        "test_gen = DataLoader(test_set, batch_size, img_size, \"./sign_data/test/\")\n",
        "val_gen= DataLoader(val_set, batch_size, img_size, \"./sign_data/train/\")"
      ]
    },
    {
      "cell_type": "markdown",
      "metadata": {
        "id": "NyMahKOU0eza"
      },
      "source": [
        "Test the train generator:"
      ]
    },
    {
      "cell_type": "code",
      "execution_count": 5,
      "metadata": {
        "colab": {
          "base_uri": "https://localhost:8080/"
        },
        "id": "LWKypDAmf55D",
        "outputId": "e7f5064b-79f2-4d82-b7bd-fe9d0a41c580"
      },
      "outputs": [
        {
          "name": "stdout",
          "output_type": "stream",
          "text": [
            "Train batch images shape: (64, 224, 224, 3) (64, 224, 224, 3)\n",
            "Train batch labels shape: (64,)\n"
          ]
        }
      ],
      "source": [
        "train_batch = next(train_gen.datagen())\n",
        "print(\"Train batch images shape:\", train_batch[0][0].shape, train_batch[0][1].shape)\n",
        "print(\"Train batch labels shape:\", train_batch[1].shape)"
      ]
    },
    {
      "cell_type": "markdown",
      "metadata": {
        "id": "vJ402ZnIF5QT"
      },
      "source": [
        "# **Model**"
      ]
    },
    {
      "cell_type": "markdown",
      "metadata": {
        "id": "cEDU9k__fhkN"
      },
      "source": [
        "Base Model:"
      ]
    },
    {
      "cell_type": "code",
      "execution_count": 6,
      "metadata": {
        "id": "5mf1DWTKfaUW"
      },
      "outputs": [],
      "source": [
        "from tensorflow.keras.applications.xception import Xception\n",
        "from tensorflow.keras.applications.inception_v3 import InceptionV3\n",
        "from tensorflow.keras.applications.resnet50 import ResNet50\n",
        "from tensorflow.keras.applications.mobilenet_v2 import MobileNetV2\n",
        "\n",
        "\n",
        "def custom_cnn():\n",
        "  model = Sequential()\n",
        "  model.add(Conv2D(4, (3,3), activation='relu', input_shape=input_shape))\n",
        "  model.add(MaxPooling2D(2,2))\n",
        "  model.add(Dropout(0.25))\n",
        "\n",
        "  model.add(Conv2D(16, (3,3), activation='relu'))\n",
        "  model.add(MaxPooling2D(5,5))\n",
        "  model.add(Dropout(0.25))\n",
        "\n",
        "  model.add(Flatten())\n",
        "  model.add(Dense(256, activation='relu'))\n",
        "\n",
        "  return model\n",
        "\n",
        "\n",
        "def def_base_model(backbone='xception', freeze_conv_layers=True):\n",
        "  print('backbone model: ' + backbone)\n",
        "  if backbone == 'Xception':\n",
        "    base_model = Xception(weights='imagenet', include_top=False)\n",
        "  elif backbone == 'InceptionV3':\n",
        "    base_model = InceptionV3(weights='imagenet', include_top=False)\n",
        "  elif backbone == 'ResNet50':\n",
        "    base_model = ResNet50(weights='imagenet', include_top=False)\n",
        "  elif backbone == 'MobileNetV2':\n",
        "    base_model = MobileNetV2(weights='imagenet', include_top=False)\n",
        "  else:\n",
        "    raise(\"unexpected backbone model. Backbone model can be choosen from: \"\n",
        "    \"'Xception', 'InceptionV3', 'MobileNetV2', and 'ResNet50'\")\n",
        "\n",
        "  x = base_model.output\n",
        "  x = GlobalAveragePooling2D()(x)\n",
        "  x = Flatten()(x)\n",
        "  x = Dense(128, activation='relu')(x)\n",
        "\n",
        "  # first: train only the top layers (which were randomly initialized)\n",
        "  # i.e. freeze all convolutional layers\n",
        "  if freeze_conv_layers:\n",
        "    print('freeze convolutional layers ...')\n",
        "    for layer in base_model.layers:\n",
        "        layer.trainable = False\n",
        "  model = Model(inputs=base_model.input, outputs=x)\n",
        "  return model"
      ]
    },
    {
      "cell_type": "markdown",
      "metadata": {
        "id": "92pyLvOkfl4X"
      },
      "source": [
        "Siamese Model:"
      ]
    },
    {
      "cell_type": "code",
      "execution_count": 7,
      "metadata": {
        "id": "MpZetimifWTB"
      },
      "outputs": [],
      "source": [
        "def siamese_model(input_shape, backbone_model='custom_cnn',\n",
        "                  freeze_conv_layers=True):\n",
        "    input1 = Input(input_shape)\n",
        "    input2 = Input(input_shape)\n",
        "\n",
        "    if backbone_model=='custom_cnn':\n",
        "      base_model = custom_cnn()\n",
        "    else:\n",
        "      base_model = def_base_model(backbone_model, freeze_conv_layers)\n",
        "\n",
        "    embedding1 = base_model(input1)\n",
        "    embedding2 = base_model(input2)\n",
        "\n",
        "    # custom loss layer:\n",
        "    loss_layer = Lambda(lambda tensors: K.abs(tensors[0] - tensors[1]))\n",
        "    manhattan_distance = loss_layer([embedding1, embedding2])\n",
        "    output = Dense(1, activation='sigmoid')(manhattan_distance)\n",
        "\n",
        "    network = Model(inputs=[input1, input2], outputs=output)\n",
        "    return network"
      ]
    },
    {
      "cell_type": "code",
      "execution_count": 9,
      "metadata": {
        "colab": {
          "base_uri": "https://localhost:8080/"
        },
        "id": "mbAwe7pki9EH",
        "outputId": "b9018f42-07d7-467b-b3f9-8cd0a38c3140"
      },
      "outputs": [
        {
          "name": "stdout",
          "output_type": "stream",
          "text": [
            "backbone model: MobileNetV2\n",
            "WARNING:tensorflow:`input_shape` is undefined or non-square, or `rows` is not in [96, 128, 160, 192, 224]. Weights for input shape (224, 224) will be loaded as the default.\n",
            "Downloading data from https://storage.googleapis.com/tensorflow/keras-applications/mobilenet_v2/mobilenet_v2_weights_tf_dim_ordering_tf_kernels_1.0_224_no_top.h5\n",
            "9406464/9406464 [==============================] - 17s 2us/step\n",
            "freeze convolutional layers ...\n",
            "Model: \"model_1\"\n",
            "__________________________________________________________________________________________________\n",
            " Layer (type)                   Output Shape         Param #     Connected to                     \n",
            "==================================================================================================\n",
            " input_4 (InputLayer)           [(None, 224, 224, 3  0           []                               \n",
            "                                )]                                                                \n",
            "                                                                                                  \n",
            " input_5 (InputLayer)           [(None, 224, 224, 3  0           []                               \n",
            "                                )]                                                                \n",
            "                                                                                                  \n",
            " model (Functional)             (None, 128)          2421952     ['input_4[0][0]',                \n",
            "                                                                  'input_5[0][0]']                \n",
            "                                                                                                  \n",
            " lambda (Lambda)                (None, 128)          0           ['model[0][0]',                  \n",
            "                                                                  'model[1][0]']                  \n",
            "                                                                                                  \n",
            " dense_1 (Dense)                (None, 1)            129         ['lambda[0][0]']                 \n",
            "                                                                                                  \n",
            "==================================================================================================\n",
            "Total params: 2,422,081\n",
            "Trainable params: 164,097\n",
            "Non-trainable params: 2,257,984\n",
            "__________________________________________________________________________________________________\n"
          ]
        }
      ],
      "source": [
        "model = siamese_model((img_size, img_size, 3), backbone_model, freeze_conv_layers)\n",
        "model.summary()"
      ]
    },
    {
      "cell_type": "markdown",
      "metadata": {
        "id": "BGw2BD5jF1SC"
      },
      "source": [
        "# **Train & Test**"
      ]
    },
    {
      "cell_type": "markdown",
      "metadata": {
        "id": "D6WahG-vdOtY"
      },
      "source": [
        "Define f1_score function to use during training:"
      ]
    },
    {
      "cell_type": "code",
      "execution_count": 10,
      "metadata": {
        "id": "5dPnJlcXcgky"
      },
      "outputs": [],
      "source": [
        "def f1_score(y_true, y_pred):\n",
        "    true_positives = K.sum(K.round(K.clip(y_true * y_pred, 0, 1)))\n",
        "    possible_positives = K.sum(K.round(K.clip(y_true, 0, 1)))\n",
        "    predicted_positives = K.sum(K.round(K.clip(y_pred, 0, 1)))\n",
        "    precision = true_positives / (predicted_positives + K.epsilon())\n",
        "    recall = true_positives / (possible_positives + K.epsilon())\n",
        "    f1_val = 2*(precision*recall)/(precision+recall+K.epsilon())\n",
        "    return f1_val"
      ]
    },
    {
      "cell_type": "markdown",
      "metadata": {
        "id": "qSFTzpzHdZrI"
      },
      "source": [
        "Compile the model:"
      ]
    },
    {
      "cell_type": "code",
      "execution_count": 11,
      "metadata": {
        "id": "Es6Ia1x6jA4K"
      },
      "outputs": [
        {
          "name": "stderr",
          "output_type": "stream",
          "text": [
            "WARNING:absl:At this time, the v2.11+ optimizer `tf.keras.optimizers.Adam` runs slowly on M1/M2 Macs, please use the legacy Keras optimizer instead, located at `tf.keras.optimizers.legacy.Adam`.\n",
            "WARNING:absl:There is a known slowdown when using v2.11+ Keras optimizers on M1/M2 Macs. Falling back to the legacy Keras optimizer, i.e., `tf.keras.optimizers.legacy.Adam`.\n"
          ]
        }
      ],
      "source": [
        "lr_schedule = keras.optimizers.schedules.ExponentialDecay(\n",
        "    initial_learning_rate=learning_rate,\n",
        "    decay_steps=5*steps_per_epoch,\n",
        "    decay_rate=0.5)\n",
        "\n",
        "optimizer = Adam(learning_rate=lr_schedule, weight_decay=0.2)\n",
        "model.compile(loss=\"binary_crossentropy\", optimizer=optimizer, metrics=['accuracy', f1_score])"
      ]
    },
    {
      "cell_type": "code",
      "execution_count": 12,
      "metadata": {
        "id": "EiYr3W6oi4fF"
      },
      "outputs": [],
      "source": [
        "early_stopper =  EarlyStopping(monitor='val_loss', min_delta=0, patience=3, verbose=1)\n",
        "custom_callback = [early_stopper]"
      ]
    },
    {
      "cell_type": "markdown",
      "metadata": {
        "id": "y9_3qL20dfPp"
      },
      "source": [
        "Train:"
      ]
    },
    {
      "cell_type": "code",
      "execution_count": 13,
      "metadata": {
        "colab": {
          "base_uri": "https://localhost:8080/"
        },
        "id": "yntA_TrTjE-L",
        "outputId": "5f7829ef-6ee4-467e-c38f-fe0db6177b21"
      },
      "outputs": [
        {
          "name": "stdout",
          "output_type": "stream",
          "text": [
            "Training!\n",
            "Epoch 1/5\n"
          ]
        },
        {
          "name": "stderr",
          "output_type": "stream",
          "text": [
            "2024-03-05 10:15:20.039873: I tensorflow/core/common_runtime/executor.cc:1197] [/device:CPU:0] (DEBUG INFO) Executor start aborting (this does not indicate an error and you can ignore this message): INVALID_ARGUMENT: You must feed a value for placeholder tensor 'Placeholder/_0' with dtype int32\n",
            "\t [[{{node Placeholder/_0}}]]\n",
            "2024-03-05 10:15:20.063820: W tensorflow/tsl/platform/profile_utils/cpu_utils.cc:128] Failed to get CPU frequency: 0 Hz\n"
          ]
        },
        {
          "name": "stdout",
          "output_type": "stream",
          "text": [
            "100/100 [==============================] - ETA: 0s - loss: 0.3207 - accuracy: 0.8564 - f1_score: 0.8466"
          ]
        },
        {
          "name": "stderr",
          "output_type": "stream",
          "text": [
            "2024-03-05 10:16:54.597705: I tensorflow/core/common_runtime/executor.cc:1197] [/device:CPU:0] (DEBUG INFO) Executor start aborting (this does not indicate an error and you can ignore this message): INVALID_ARGUMENT: You must feed a value for placeholder tensor 'Placeholder/_0' with dtype int32\n",
            "\t [[{{node Placeholder/_0}}]]\n"
          ]
        },
        {
          "name": "stdout",
          "output_type": "stream",
          "text": [
            "100/100 [==============================] - 96s 944ms/step - loss: 0.3207 - accuracy: 0.8564 - f1_score: 0.8466 - val_loss: 0.1331 - val_accuracy: 0.9375 - val_f1_score: 0.9286\n",
            "Epoch 2/5\n",
            "100/100 [==============================] - 92s 918ms/step - loss: 0.0931 - accuracy: 0.9680 - f1_score: 0.9649 - val_loss: 0.0874 - val_accuracy: 0.9688 - val_f1_score: 0.9615\n",
            "Epoch 3/5\n",
            "100/100 [==============================] - 97s 966ms/step - loss: 0.0392 - accuracy: 0.9885 - f1_score: 0.9870 - val_loss: 0.0386 - val_accuracy: 0.9844 - val_f1_score: 0.9804\n",
            "Epoch 4/5\n",
            "100/100 [==============================] - 99s 994ms/step - loss: 0.0108 - accuracy: 0.9986 - f1_score: 0.9985 - val_loss: 0.0132 - val_accuracy: 1.0000 - val_f1_score: 1.0000\n",
            "Epoch 5/5\n",
            "100/100 [==============================] - 92s 921ms/step - loss: 0.0060 - accuracy: 0.9989 - f1_score: 0.9988 - val_loss: 0.0087 - val_accuracy: 1.0000 - val_f1_score: 1.0000\n"
          ]
        }
      ],
      "source": [
        "print(\"Training!\")\n",
        "checkpoint_filepath = data_path + '/best_model.hdf5'\n",
        "model_checkpoint_callback = keras.callbacks.ModelCheckpoint(\n",
        "    filepath=checkpoint_filepath,\n",
        "    monitor='val_accuracy',\n",
        "    mode='max',\n",
        "    save_best_only=True)\n",
        "\n",
        "history = model.fit(\n",
        "    train_gen.datagen(),\n",
        "    verbose=1,\n",
        "    steps_per_epoch=steps_per_epoch,  # set appropriate steps_per_epoch\n",
        "    epochs=num_epoches,\n",
        "    validation_data=val_gen.datagen(),\n",
        "    validation_steps=1,  # set appropriate validation_steps\n",
        "    callbacks=[model_checkpoint_callback]\n",
        ")"
      ]
    },
    {
      "cell_type": "markdown",
      "metadata": {
        "id": "aDP2POX3dh94"
      },
      "source": [
        "Plot traning curves:"
      ]
    },
    {
      "cell_type": "code",
      "execution_count": 14,
      "metadata": {
        "colab": {
          "base_uri": "https://localhost:8080/",
          "height": 1000
        },
        "id": "mQ55NtPzdI-q",
        "outputId": "5bec53da-9275-4668-ddbb-0b1ccc2f9bba"
      },
      "outputs": [
        {
          "name": "stdout",
          "output_type": "stream",
          "text": [
            "dict_keys(['loss', 'accuracy', 'f1_score', 'val_loss', 'val_accuracy', 'val_f1_score'])\n"
          ]
        },
        {
          "data": {
            "image/png": "[encoded data removed]",
            "text/plain": [
              "<Figure size 640x480 with 1 Axes>"
            ]
          },
          "metadata": {},
          "output_type": "display_data"
        },
        {
          "data": {
            "image/png": "[encoded data removed]",
            "text/plain": [
              "<Figure size 640x480 with 1 Axes>"
            ]
          },
          "metadata": {},
          "output_type": "display_data"
        },
        {
          "data": {
            "image/png": "[encoded data removed]",
            "text/plain": [
              "<Figure size 640x480 with 1 Axes>"
            ]
          },
          "metadata": {},
          "output_type": "display_data"
        }
      ],
      "source": [
        "# list all data in history\n",
        "print(history.history.keys())\n",
        "\n",
        "# summarize history for accuracy\n",
        "plt.plot(history.history['accuracy'])\n",
        "plt.plot(history.history['val_accuracy'])\n",
        "plt.title('model accuracy')\n",
        "plt.ylabel('accuracy')\n",
        "plt.xlabel('epoch')\n",
        "plt.legend(['train', 'validation'], loc='upper left')\n",
        "plt.show()\n",
        "\n",
        "# summarize history for loss\n",
        "plt.plot(history.history['loss'])\n",
        "plt.plot(history.history['val_loss'])\n",
        "plt.title('model loss')\n",
        "plt.ylabel('loss')\n",
        "plt.xlabel('epoch')\n",
        "plt.legend(['train', 'validation'], loc='upper left')\n",
        "plt.show()\n",
        "\n",
        "# summarize history for f1_score\n",
        "plt.plot(history.history['f1_score'])\n",
        "plt.plot(history.history['val_f1_score'])\n",
        "plt.title('model f1_score')\n",
        "plt.ylabel('f1_score')\n",
        "plt.xlabel('epoch')\n",
        "plt.legend(['train', 'validation'], loc='upper left')\n",
        "plt.show()"
      ]
    },
    {
      "cell_type": "markdown",
      "metadata": {
        "id": "4gxCTH-ywHpG"
      },
      "source": [
        "**Save the trained model**"
      ]
    },
    {
      "cell_type": "code",
      "execution_count": 15,
      "metadata": {
        "colab": {
          "base_uri": "https://localhost:8080/"
        },
        "id": "g8ODGwKwvniA",
        "outputId": "c4f77c8c-4218-4755-d8e9-0d86af7305f5"
      },
      "outputs": [],
      "source": [
        "keras.saving.save_model(model, backbone_model + '.h5', overwrite=True)"
      ]
    },
    {
      "cell_type": "markdown",
      "metadata": {
        "id": "DLErHlk-FweM"
      },
      "source": [
        "**Test**"
      ]
    },
    {
      "cell_type": "code",
      "execution_count": 4,
      "metadata": {
        "colab": {
          "base_uri": "https://localhost:8080/"
        },
        "id": "UqyFQtFrwCB7",
        "outputId": "78b70cae-2c59-402a-ceb9-04116cf2488e"
      },
      "outputs": [
        {
          "ename": "NameError",
          "evalue": "name 'checkpoint_filepath' is not defined",
          "output_type": "error",
          "traceback": [
            "\u001b[0;31m---------------------------------------------------------------------------\u001b[0m",
            "\u001b[0;31mNameError\u001b[0m                                 Traceback (most recent call last)",
            "Cell \u001b[0;32mIn[4], line 2\u001b[0m\n\u001b[1;32m      1\u001b[0m \u001b[38;5;66;03m# loaded_model = keras.saving.load_model(backbone_model + '.h5')\u001b[39;00m\n\u001b[0;32m----> 2\u001b[0m loaded_model \u001b[38;5;241m=\u001b[39m keras\u001b[38;5;241m.\u001b[39msaving\u001b[38;5;241m.\u001b[39mload_model(\u001b[43mcheckpoint_filepath\u001b[49m,custom_objects\u001b[38;5;241m=\u001b[39m{\u001b[38;5;124m\"\u001b[39m\u001b[38;5;124mf1_score\u001b[39m\u001b[38;5;124m\"\u001b[39m: f1_score})\n\u001b[1;32m      3\u001b[0m \u001b[38;5;66;03m# result = loaded_model.evaluate(test_gen.datagen(repeat_flag=False), batch_size=None,\u001b[39;00m\n\u001b[1;32m      4\u001b[0m \u001b[38;5;66;03m#                                verbose=1, sample_weight=None, steps=None,\u001b[39;00m\n\u001b[1;32m      5\u001b[0m \u001b[38;5;66;03m#                                callbacks=None, max_queue_size=10, workers=1,\u001b[39;00m\n\u001b[1;32m      6\u001b[0m \u001b[38;5;66;03m#                                use_multiprocessing=False, return_dict=False)\u001b[39;00m\n",
            "\u001b[0;31mNameError\u001b[0m: name 'checkpoint_filepath' is not defined"
          ]
        }
      ],
      "source": [
        "#loaded_model = keras.saving.load_model(backbone_model + '.h5')\n",
        "loaded_model = keras.saving.load_model(checkpoint_filepath,custom_objects={\"f1_score\": f1_score})\n",
        "result = loaded_model.evaluate(test_gen.datagen(repeat_flag=False), batch_size=None,\n",
        "                               verbose=1, sample_weight=None, steps=None,\n",
        "                               callbacks=None, max_queue_size=10, workers=1,\n",
        "                               use_multiprocessing=False, return_dict=False)"
      ]
    },
    {
      "cell_type": "markdown",
      "metadata": {
        "id": "ZUsRzHokLsO6"
      },
      "source": [
        "confusion matrix for 2 classes:"
      ]
    },
    {
      "cell_type": "code",
      "execution_count": 21,
      "metadata": {
        "id": "LiUOs5msGxiS"
      },
      "outputs": [
        {
          "name": "stderr",
          "output_type": "stream",
          "text": [
            "90it [02:06,  1.40s/it]\n"
          ]
        }
      ],
      "source": [
        "from tqdm import tqdm\n",
        "y_gt = []\n",
        "y_pr = []\n",
        "for data in tqdm(test_gen.datagen(repeat_flag=False)):\n",
        "  labels = data[1]\n",
        "  predictions = loaded_model.predict(data[0], verbose=0)\n",
        "  for i, label in enumerate(labels):\n",
        "    y_gt.append(label)\n",
        "    y_pr.append(predictions[i])"
      ]
    },
    {
      "cell_type": "code",
      "execution_count": 34,
      "metadata": {
        "colab": {
          "base_uri": "https://localhost:8080/"
        },
        "id": "l0Z5b3C9NWUR",
        "outputId": "b892a5ee-d0e7-45ae-ca84-221606fc9201"
      },
      "outputs": [
        {
          "name": "stdout",
          "output_type": "stream",
          "text": [
            "[[9.99278239e-01 7.21761097e-04]\n",
            " [4.70588235e-03 9.95294118e-01]]\n"
          ]
        }
      ],
      "source": [
        "y_pr = np.round(y_pr)\n",
        "cm = confusion_matrix(y_gt, y_pr, normalize='true')\n",
        "print(cm)"
      ]
    },
    {
      "cell_type": "markdown",
      "metadata": {
        "id": "xgxPPy3Gdo3o"
      },
      "source": [
        "Calculate classification metrics on test data:"
      ]
    },
    {
      "cell_type": "code",
      "execution_count": 35,
      "metadata": {
        "colab": {
          "base_uri": "https://localhost:8080/"
        },
        "id": "COt5DSbaZdst",
        "outputId": "c29582f7-59d4-445a-a437-5605e8a77213"
      },
      "outputs": [
        {
          "name": "stdout",
          "output_type": "stream",
          "text": [
            "              precision    recall  f1-score   support\n",
            "\n",
            "         0.0       0.99      1.00      1.00      2771\n",
            "         1.0       1.00      1.00      1.00      2975\n",
            "\n",
            "    accuracy                           1.00      5746\n",
            "   macro avg       1.00      1.00      1.00      5746\n",
            "weighted avg       1.00      1.00      1.00      5746\n",
            "\n"
          ]
        }
      ],
      "source": [
        "from sklearn.metrics import classification_report\n",
        "print(classification_report(y_gt, y_pr))"
      ]
    }
  ],
  "metadata": {
    "accelerator": "GPU",
    "colab": {
      "authorship_tag": "ABX9TyNKrOmSJccgawG0++8k72q3",
      "include_colab_link": true,
      "provenance": []
    },
    "kernelspec": {
      "display_name": "Python 3",
      "name": "python3"
    },
    "language_info": {
      "codemirror_mode": {
        "name": "ipython",
        "version": 3
      },
      "file_extension": ".py",
      "mimetype": "text/x-python",
      "name": "python",
      "nbconvert_exporter": "python",
      "pygments_lexer": "ipython3",
      "version": "3.10.13"
    }
  },
  "nbformat": 4,
  "nbformat_minor": 0
}
